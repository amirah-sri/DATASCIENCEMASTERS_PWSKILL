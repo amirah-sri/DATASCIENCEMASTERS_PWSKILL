{
 "cells": [
  {
   "cell_type": "code",
   "execution_count": 1,
   "id": "341ee3fe-1795-49dd-922f-3ccc3d20539d",
   "metadata": {},
   "outputs": [],
   "source": [
    "#1. write a program to accept percentage from user and display the grade."
   ]
  },
  {
   "cell_type": "code",
   "execution_count": 2,
   "id": "2998a5e9-c611-4a30-95ed-a1a338dac04f",
   "metadata": {},
   "outputs": [
    {
     "name": "stdin",
     "output_type": "stream",
     "text": [
      "Enter the percentage : 66\n"
     ]
    },
    {
     "name": "stdout",
     "output_type": "stream",
     "text": [
      "C\n"
     ]
    }
   ],
   "source": [
    "a=int(input(\"Enter the percentage :\"))\n",
    "if a>90 and a<=100 :\n",
    "    print(\"A\")\n",
    "elif a>80 and a<=90:\n",
    "    print(\"B\")\n",
    "elif a>=60 and a<=80:\n",
    "    print(\"C\")\n",
    "elif a>0 and a<60:\n",
    "    print(\"D\")\n",
    "else:\n",
    "    print(\"Invalid Input\")"
   ]
  },
  {
   "cell_type": "code",
   "execution_count": 3,
   "id": "de10bb46-718a-4d35-92c1-86030389678d",
   "metadata": {},
   "outputs": [],
   "source": [
    "#2. write a program to accept the cost price of bike and display the road tax to be paid."
   ]
  },
  {
   "cell_type": "code",
   "execution_count": 4,
   "id": "6875d317-1eb7-4e75-8463-27ae1f0399c2",
   "metadata": {},
   "outputs": [
    {
     "name": "stdin",
     "output_type": "stream",
     "text": [
      "Enter Bike price: 780000\n"
     ]
    },
    {
     "name": "stdout",
     "output_type": "stream",
     "text": [
      "Your road tax is 117000.0\n"
     ]
    }
   ],
   "source": [
    "b=int(input(\"Enter Bike price:\"))\n",
    "\n",
    "if b > 100000:\n",
    "    tax=(15 / 100) * b\n",
    "    \n",
    "elif b > 50000:\n",
    "    tax=(10 / 100) * b\n",
    "    \n",
    "else:\n",
    "    tax=(5 / 100) * b\n",
    "    \n",
    "print(f\"Your road tax is\",tax)\n"
   ]
  },
  {
   "cell_type": "code",
   "execution_count": 5,
   "id": "9e3df305-7722-435c-aecf-55e269bfc608",
   "metadata": {},
   "outputs": [],
   "source": [
    "#3.Accept any city from the user and display monuments of that city."
   ]
  },
  {
   "cell_type": "code",
   "execution_count": 6,
   "id": "84140319-4a4a-448e-ab01-bdd9b6f32bb0",
   "metadata": {},
   "outputs": [
    {
     "name": "stdin",
     "output_type": "stream",
     "text": [
      "Enter the city name: agra\n"
     ]
    },
    {
     "name": "stdout",
     "output_type": "stream",
     "text": [
      "Taj Mahal\n"
     ]
    }
   ],
   "source": [
    "city=input(\"Enter the city name:\")\n",
    "if city==\"Delhi\" or city==\"delhi\":\n",
    "    print(\"Red Fort\")\n",
    "elif city==\"Agra\" or city==\"agra\":\n",
    "    print(\"Taj Mahal\")\n",
    "elif city==\"Jaipur\" or city==\"jaipur\":\n",
    "    print(\"Jal Mahal\")\n",
    "else:\n",
    "    print(\"invalid input\")\n"
   ]
  },
  {
   "cell_type": "code",
   "execution_count": 7,
   "id": "00888850-cd74-4ccc-88a3-6532348c6cdb",
   "metadata": {},
   "outputs": [],
   "source": [
    "#4. check how many times a given number can be divided by 3 before it is less than or equal to 10."
   ]
  },
  {
   "cell_type": "code",
   "execution_count": 8,
   "id": "59cc0357-4be6-498f-886e-34a2dcbd4b6f",
   "metadata": {},
   "outputs": [
    {
     "name": "stdin",
     "output_type": "stream",
     "text": [
      "Enter a number: 44\n"
     ]
    },
    {
     "name": "stdout",
     "output_type": "stream",
     "text": [
      "The count is: 2\n"
     ]
    }
   ],
   "source": [
    "number=int(input(\"Enter a number:\"))\n",
    "count=0\n",
    "\n",
    "while number > 10 :\n",
    "    number //= 3\n",
    "    count = count+1\n",
    "    \n",
    "print(\"The count is:\",count)   "
   ]
  },
  {
   "cell_type": "code",
   "execution_count": 9,
   "id": "9ec3c832-5473-4670-a07a-23a515b25860",
   "metadata": {},
   "outputs": [],
   "source": [
    "#5. why and when to use while loop in python give a detailed description with example."
   ]
  },
  {
   "cell_type": "raw",
   "id": "ba56ce7c-2411-43d8-85ad-15222db12240",
   "metadata": {},
   "source": [
    "The while loop in Python is used when you want to repeatedly execute a block of code as long as a certain condition is true. It is often used when the number of iterations is not known beforehand, and the loop should continue until a specific condition is met. "
   ]
  },
  {
   "cell_type": "code",
   "execution_count": 1,
   "id": "436a263b-27ff-454e-b197-2bd8cdc6e0de",
   "metadata": {},
   "outputs": [
    {
     "name": "stdout",
     "output_type": "stream",
     "text": [
      "1\n",
      "2\n",
      "3\n",
      "4\n",
      "5\n"
     ]
    }
   ],
   "source": [
    "i = 1\n",
    "while i < 6:\n",
    "  print(i)\n",
    "  i += 1"
   ]
  },
  {
   "cell_type": "code",
   "execution_count": 2,
   "id": "db0c9517-bd4d-4d3a-98fe-66c43e03a1ef",
   "metadata": {},
   "outputs": [],
   "source": [
    "#6. use nested while loop to print 3 different pattern."
   ]
  },
  {
   "cell_type": "code",
   "execution_count": 3,
   "id": "fb90cb2c-5d3f-47c7-9709-614879c588b8",
   "metadata": {},
   "outputs": [
    {
     "name": "stdout",
     "output_type": "stream",
     "text": [
      "* \n",
      "* * \n",
      "* * * \n",
      "* * * * \n",
      "* * * * * \n"
     ]
    }
   ],
   "source": [
    "#1\n",
    "n = 5\n",
    " \n",
    "i = 1\n",
    "while i <= n :\n",
    "    j = 1\n",
    "    while j <= i:\n",
    "        print(\"*\", end = \" \")\n",
    "        j += 1\n",
    "    print()\n",
    "    i += 1"
   ]
  },
  {
   "cell_type": "code",
   "execution_count": 5,
   "id": "db1f2994-e8c2-4242-bf06-1fa0d550598e",
   "metadata": {},
   "outputs": [
    {
     "name": "stdout",
     "output_type": "stream",
     "text": [
      "* * * \n",
      "* * \n",
      "* \n"
     ]
    }
   ],
   "source": [
    "#2\n",
    "n = 3\n",
    " \n",
    "i = 1\n",
    "while i <= n :\n",
    "    j = n\n",
    "    while j >= i:\n",
    "        print(\"*\", end = \" \")\n",
    "        j -= 1\n",
    "    print()\n",
    "    i += 1"
   ]
  },
  {
   "cell_type": "code",
   "execution_count": 6,
   "id": "60573e83-f8a2-4a7b-a76c-148da6fbb904",
   "metadata": {},
   "outputs": [
    {
     "name": "stdout",
     "output_type": "stream",
     "text": [
      "    *\n",
      "   ***\n",
      "  *****\n",
      " *******\n",
      "*********\n"
     ]
    }
   ],
   "source": [
    "#3\n",
    "n = 5\n",
    "for i in range(1, n+1):\n",
    "    for j in range(n - i):\n",
    "        print(' ', end='')\n",
    "    for k in range(2 * i - 1):\n",
    "        print('*', end='')\n",
    "    print()"
   ]
  },
  {
   "cell_type": "code",
   "execution_count": 7,
   "id": "4db29afc-e9e9-4415-bf92-abc25ed623e8",
   "metadata": {},
   "outputs": [],
   "source": [
    "#7.Reverse a while loop to display a number from 10 to 1."
   ]
  },
  {
   "cell_type": "code",
   "execution_count": 10,
   "id": "3671901b-befe-4ac3-9d19-64f74063e3cf",
   "metadata": {},
   "outputs": [
    {
     "name": "stdout",
     "output_type": "stream",
     "text": [
      "10 9 8 7 6 5 4 3 2 1 "
     ]
    }
   ],
   "source": [
    "n = 10\n",
    "while( n > 0):\n",
    "    print(n, end=\" \")\n",
    "    n = n-1"
   ]
  },
  {
   "cell_type": "code",
   "execution_count": 9,
   "id": "b8a61740-325d-46dc-801d-784bac77018c",
   "metadata": {},
   "outputs": [],
   "source": [
    "#8.Reverse a while loop to display a number from 10 to 1."
   ]
  },
  {
   "cell_type": "code",
   "execution_count": 11,
   "id": "9be51f60-ccc4-4705-886e-ca369918eb14",
   "metadata": {},
   "outputs": [
    {
     "name": "stdout",
     "output_type": "stream",
     "text": [
      "10 9 8 7 6 5 4 3 2 1 "
     ]
    }
   ],
   "source": [
    "n = 10\n",
    "while( n > 0):\n",
    "    print(n, end=\" \")\n",
    "    n = n-1"
   ]
  },
  {
   "cell_type": "code",
   "execution_count": null,
   "id": "20ce9a51-5f03-4d43-bb2b-864ac146cf64",
   "metadata": {},
   "outputs": [],
   "source": []
  }
 ],
 "metadata": {
  "kernelspec": {
   "display_name": "Python 3 (ipykernel)",
   "language": "python",
   "name": "python3"
  },
  "language_info": {
   "codemirror_mode": {
    "name": "ipython",
    "version": 3
   },
   "file_extension": ".py",
   "mimetype": "text/x-python",
   "name": "python",
   "nbconvert_exporter": "python",
   "pygments_lexer": "ipython3",
   "version": "3.10.8"
  }
 },
 "nbformat": 4,
 "nbformat_minor": 5
}
