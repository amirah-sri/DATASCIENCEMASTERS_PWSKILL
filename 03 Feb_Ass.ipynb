{
 "cells": [
  {
   "cell_type": "code",
   "execution_count": 1,
   "id": "79caf439-2bbf-4ab5-8540-51b91907de80",
   "metadata": {
    "jp-MarkdownHeadingCollapsed": true,
    "tags": []
   },
   "outputs": [],
   "source": [
    "#Q1. Which keyword is used to create a function? Create a function to return a list of odd numbers in the range of 1 to 25."
   ]
  },
  {
   "cell_type": "markdown",
   "id": "0c9f827b-848b-4066-a39d-3e5ca58672d0",
   "metadata": {},
   "source": [
    "def keyward is used to define a function "
   ]
  },
  {
   "cell_type": "markdown",
   "id": "69c7c423-c756-4519-bf22-99ed32c97450",
   "metadata": {},
   "source": [
    "def odd():\n",
    "    l=[i for i in range(1,26,2)]\n",
    "    return l\n",
    "print(odd())"
   ]
  },
  {
   "cell_type": "code",
   "execution_count": 26,
   "id": "797c0865-0963-4b03-89d8-71b313d54202",
   "metadata": {},
   "outputs": [],
   "source": [
    "#Q2. Why *args and **kwargs is used in some functions? Create a function each for *args and **kwargs to demonstrate their use."
   ]
  },
  {
   "cell_type": "raw",
   "id": "b20078e3-d6c6-47b8-a20d-c98719c43677",
   "metadata": {},
   "source": [
    "*args is used to pass a variable number of non-keyword arguments to a function. It allows you to provide any number of arguments when calling the function.\n",
    "**kwargs is used to pass a variable number of keyword arguments to a function. It allows you to provide any number of keyword arguments when calling the function."
   ]
  },
  {
   "cell_type": "code",
   "execution_count": 40,
   "id": "6234bcf4-dcbb-4f4c-9f1f-47c41e5f8056",
   "metadata": {},
   "outputs": [],
   "source": [
    "#for *args \n",
    "def test1(*args):\n",
    "    return args"
   ]
  },
  {
   "cell_type": "code",
   "execution_count": 41,
   "id": "a2458778-a005-4d38-bf69-1428069d0641",
   "metadata": {},
   "outputs": [
    {
     "data": {
      "text/plain": [
       "(1, 4, 5, 6.7, 'sri')"
      ]
     },
     "execution_count": 41,
     "metadata": {},
     "output_type": "execute_result"
    }
   ],
   "source": [
    "test1(1,4,5,6.7,\"sri\")"
   ]
  },
  {
   "cell_type": "code",
   "execution_count": 43,
   "id": "3500ee33-973b-493e-8bdb-0abaaf467fb3",
   "metadata": {},
   "outputs": [],
   "source": [
    "#for **kargs\n",
    "def test1(**kargs):\n",
    "    return kargs"
   ]
  },
  {
   "cell_type": "code",
   "execution_count": 44,
   "id": "db8d099d-dacc-42a2-93fc-82567438d236",
   "metadata": {},
   "outputs": [
    {
     "data": {
      "text/plain": [
       "{'a': 1, 'b': 4, 'h': 'sri', 'r': 9.8}"
      ]
     },
     "execution_count": 44,
     "metadata": {},
     "output_type": "execute_result"
    }
   ],
   "source": [
    "test1(a=1,b=4,h='sri',r=9.8)"
   ]
  },
  {
   "cell_type": "code",
   "execution_count": 47,
   "id": "82f4a9da-bdfa-43f1-9252-a6c5198d9f06",
   "metadata": {},
   "outputs": [],
   "source": [
    "#Q3.What is an iterator in python? Name the method used to initialise the iterator object and the method used for iteration. Use these methods to print the first five elements of the \n",
    "#given list [2, 4, 6, 8, 10, 12, 14, 16,18, 20]."
   ]
  },
  {
   "cell_type": "markdown",
   "id": "23e512fa-3714-4e72-86ad-26d601e48ff7",
   "metadata": {},
   "source": [
    "Iterator in Python is an object that is used to iterate over iterable objects like lists, tuples, dicts, and sets.\n",
    "The method used for initialization of iter object is iter() and the method used for iteration is nect()."
   ]
  },
  {
   "cell_type": "code",
   "execution_count": 46,
   "id": "0f14368d-2920-4dd6-ad75-133ca7e48ed9",
   "metadata": {},
   "outputs": [
    {
     "name": "stdout",
     "output_type": "stream",
     "text": [
      "2\n",
      "4\n",
      "6\n",
      "8\n",
      "10\n"
     ]
    }
   ],
   "source": [
    "lst = [2, 4, 6, 8, 10, 12, 14, 16, 18, 20]\n",
    "iterator = iter(lst)\n",
    "for i in range(5):\n",
    "    a= next(iterator)\n",
    "    print(a)\n"
   ]
  },
  {
   "cell_type": "code",
   "execution_count": 48,
   "id": "12d4169f-1c38-484e-9e2d-d587f6d3137d",
   "metadata": {},
   "outputs": [],
   "source": [
    "#Q4. What is a generator function in python? Why yield keyword is used? Give an example of a generator function."
   ]
  },
  {
   "cell_type": "markdown",
   "id": "c25e4b65-98b1-412d-bcaf-cf4b06ceb25a",
   "metadata": {},
   "source": [
    "In Python, a generator is a function that returns an iterator that produces a sequence of values when iterated over. Generators are useful when we want to produce a large sequence of values, but we don't want to store all of them in memory at once.\n",
    "\n",
    "In Python, similar to defining a normal function, we can define a generator function using the def keyword, but instead of the return statement we use the YIELD statement."
   ]
  },
  {
   "cell_type": "code",
   "execution_count": 49,
   "id": "f8b589e5-3f36-4b2b-8ccc-4eaa6134fcdd",
   "metadata": {},
   "outputs": [],
   "source": [
    "def test_fib(n):\n",
    "    a,b=0,1\n",
    "    for i in range(n):\n",
    "        yield a\n",
    "        a,b=b,a+b"
   ]
  },
  {
   "cell_type": "code",
   "execution_count": 51,
   "id": "3d453831-61ee-4ecc-a30f-66ee521cd40f",
   "metadata": {},
   "outputs": [
    {
     "name": "stdout",
     "output_type": "stream",
     "text": [
      "0\n",
      "1\n",
      "1\n",
      "2\n",
      "3\n",
      "5\n",
      "8\n",
      "13\n",
      "21\n",
      "34\n"
     ]
    }
   ],
   "source": [
    "for i in test_fib(10):\n",
    "    print(i)"
   ]
  },
  {
   "cell_type": "code",
   "execution_count": 52,
   "id": "8dc1cdf6-e140-439f-a9dd-d9d725e74225",
   "metadata": {},
   "outputs": [],
   "source": [
    "#Q5. Create a generator function for prime numbers less than 1000. Use the next() method to print the first 20 prime numbers."
   ]
  },
  {
   "cell_type": "code",
   "execution_count": null,
   "id": "ded805e7-f21f-409d-880d-54aed261bd26",
   "metadata": {},
   "outputs": [],
   "source": [
    "def prime():\n",
    "    primes = []\n",
    "    num = 2\n",
    "    while True:\n",
    "        if all(num % prime != 0 for prime in primes):\n",
    "            yield num\n",
    "            primes.append(num)\n",
    "        num += 1\n",
    "\n",
    "p = prime()\n",
    "\n",
    "for _ in range(20):\n",
    "    next_prime = next(prime_generator)\n",
    "    print(next_prime)"
   ]
  }
 ],
 "metadata": {
  "kernelspec": {
   "display_name": "Python 3 (ipykernel)",
   "language": "python",
   "name": "python3"
  },
  "language_info": {
   "codemirror_mode": {
    "name": "ipython",
    "version": 3
   },
   "file_extension": ".py",
   "mimetype": "text/x-python",
   "name": "python",
   "nbconvert_exporter": "python",
   "pygments_lexer": "ipython3",
   "version": "3.10.8"
  }
 },
 "nbformat": 4,
 "nbformat_minor": 5
}
