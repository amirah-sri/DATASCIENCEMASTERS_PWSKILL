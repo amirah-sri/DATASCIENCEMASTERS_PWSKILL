{
 "cells": [
  {
   "cell_type": "raw",
   "id": "7f31bfb5-29c1-42c8-b397-19152a9ee6f3",
   "metadata": {},
   "source": [
    "# 1) Who developed PYTHON programming language?"
   ]
  },
  {
   "cell_type": "raw",
   "id": "ddfef68e-b871-4b22-b5e5-ed9230f8d7ee",
   "metadata": {},
   "source": [
    "The python program is develoed by Guido Van Rossum in late 1980s."
   ]
  },
  {
   "cell_type": "code",
   "execution_count": 2,
   "id": "bda871f4-239e-46ac-907c-f117de14ea3a",
   "metadata": {},
   "outputs": [],
   "source": [
    "# 2) which type of programming does python support?"
   ]
  },
  {
   "cell_type": "markdown",
   "id": "45eb7ebb-77d9-408f-ba1f-875f2ab48f27",
   "metadata": {},
   "source": [
    "Python supports Multiple programming types, That includes:\n",
    "    1)OPPS: Python allows support for object oriented programming concepts such as Class ,object,encapsulation, inhertiance and polymerhism.\n",
    "    2) Dynamic Typing:Python supports Dynamic typing which means the type of variable dose not have to be declare the datatype and you can assign any type of object to them.\n",
    "    3)Functional Programming: Python supports lambda expresions, list compressions to write consise code. \n",
    "    4)Procedural Programming: Python provides support for procedural programming through functions and modules, making it possible to write programs in a step-by-step manner.\n",
    "    5)Impratative Programming:Python lets ypu write statements that modify the state of program and allows use of control statements such as if, if-else etc."
   ]
  },
  {
   "cell_type": "code",
   "execution_count": 4,
   "id": "d529b564-8f4f-474d-93b8-7692cde489fa",
   "metadata": {},
   "outputs": [],
   "source": [
    "# 3) is python case sensitive when dealing with identifiers?"
   ]
  },
  {
   "cell_type": "markdown",
   "id": "0a333798-edfe-4575-9f76-545ee57507b2",
   "metadata": {},
   "source": [
    "Yes python is case sensitive when dealing with identifiers which means it treats uppercase and lower case letter differently."
   ]
  },
  {
   "cell_type": "code",
   "execution_count": 5,
   "id": "7d3d1037-5626-4d65-8c9b-7fc919aac187",
   "metadata": {},
   "outputs": [],
   "source": [
    "# 4) what is correct extension of python file?"
   ]
  },
  {
   "cell_type": "raw",
   "id": "07705f23-f0f8-45d1-a6a8-de7550ece2e5",
   "metadata": {},
   "source": [
    "The correct extension of python is .py"
   ]
  },
  {
   "cell_type": "code",
   "execution_count": 9,
   "id": "c67e5adf-0b70-4c2d-ab59-93b82a1fbc60",
   "metadata": {},
   "outputs": [],
   "source": [
    "#5) Is Python code compiled or interpreted?"
   ]
  },
  {
   "cell_type": "markdown",
   "id": "02fefa89-367a-4472-8a71-18e4554531aa",
   "metadata": {},
   "source": [
    "Python is both interpreted and compiled. The compilation step occurs at runtime, and the compiled bytecode is executed by the interpreter. This combination provides the advantages of both interpreted and compiled languages. It allows for flexibility and ease of development (interpreted), while also providing performance benefits (compiled bytecode)."
   ]
  },
  {
   "cell_type": "code",
   "execution_count": 10,
   "id": "e6218433-df54-4d8e-9b15-c9494cbc0f9f",
   "metadata": {},
   "outputs": [],
   "source": [
    "# 6) name a few blocks of code to define in python programming language."
   ]
  },
  {
   "cell_type": "markdown",
   "id": "e75fdca5-91db-425e-a121-2eb62cdb2fb3",
   "metadata": {},
   "source": [
    "1) Functional Block: Defines a fuction and can be reused as many times as required.\n",
    "2) Class Block: Defines class and creates object or intances to use in that code.\n",
    "3) Exception handling Block: Defines Exception and execute code based on wether the exception occured or not.\n",
    "4) Loop Block: Repeats a block of code.\n",
    "5) Control Block: To control the flow of program based upon certion conditions."
   ]
  },
  {
   "cell_type": "code",
   "execution_count": 11,
   "id": "96489786-a83f-48f3-8484-013523f230f7",
   "metadata": {},
   "outputs": [],
   "source": [
    "# 7) state character to give single line comment in python."
   ]
  },
  {
   "cell_type": "markdown",
   "id": "9725ac4c-8384-41ab-99a5-029b2ae4e5c6",
   "metadata": {},
   "source": [
    "\"#\" is used for single line comment in python."
   ]
  },
  {
   "cell_type": "code",
   "execution_count": 12,
   "id": "7b4eac78-6032-42e1-af3b-9f5d959bcf35",
   "metadata": {},
   "outputs": [],
   "source": [
    "# 8)find functions that can help to find versions of python."
   ]
  },
  {
   "cell_type": "code",
   "execution_count": 13,
   "id": "854ea18c-42f9-4be2-8af9-725f274a821a",
   "metadata": {},
   "outputs": [
    {
     "name": "stdout",
     "output_type": "stream",
     "text": [
      "3.10.8 | packaged by conda-forge | (main, Nov 22 2022, 08:26:04) [GCC 10.4.0]\n"
     ]
    }
   ],
   "source": [
    "#sys method\n",
    "import sys\n",
    "print(sys.version)"
   ]
  },
  {
   "cell_type": "code",
   "execution_count": 14,
   "id": "03f090cd-7438-4f0f-926a-92fe4e0b9c0b",
   "metadata": {},
   "outputs": [
    {
     "name": "stdout",
     "output_type": "stream",
     "text": [
      "3.10.8\n"
     ]
    }
   ],
   "source": [
    "# platform method\n",
    "import platform\n",
    "print(platform.python_version())"
   ]
  },
  {
   "cell_type": "markdown",
   "id": "421e411c-c009-46d7-935d-6629e759a671",
   "metadata": {},
   "source": [
    "#using command line promt\n",
    "python -V"
   ]
  },
  {
   "cell_type": "code",
   "execution_count": 16,
   "id": "66019346-7319-43e6-9007-ea50bec84c5e",
   "metadata": {},
   "outputs": [],
   "source": [
    "# 9) Python support creation of anonymous function using which construct?"
   ]
  },
  {
   "cell_type": "raw",
   "id": "ba0ed3a1-af20-495f-ac71-f6756919af74",
   "metadata": {},
   "source": [
    "Yes, python support ananymos functions know as lambda function."
   ]
  },
  {
   "cell_type": "code",
   "execution_count": 17,
   "id": "a5078b80-fb55-435d-98dc-d934c9df243c",
   "metadata": {},
   "outputs": [],
   "source": [
    "# 10)what does pip stand for python?"
   ]
  },
  {
   "cell_type": "markdown",
   "id": "3d5497ca-a281-4239-8c54-1bce24294d65",
   "metadata": {},
   "source": [
    "The term \"pip\" in Python stands for \"Pip Installs Packages\" or sometimes recursively as \"Pip Installs Python.\" pip is a package manager for Python, used to install and manage software packages (libraries or modules) written in Python."
   ]
  },
  {
   "cell_type": "code",
   "execution_count": 18,
   "id": "998c0202-7c2b-4bf5-9469-8e1f3db7ad67",
   "metadata": {},
   "outputs": [],
   "source": [
    "# 11) Mention few built in functions in python."
   ]
  },
  {
   "cell_type": "markdown",
   "id": "db57e213-44de-4569-96ce-3ad522c51b91",
   "metadata": {},
   "source": [
    "1)len(): to find the length of a variable,string,list,tuple etc.\n",
    "2)print():to print the outpot to the consol\n",
    "3)max(): Mind the maximum element in a list, sequence etc.\n",
    "4)type(): tells us about the data type of the variable.\n",
    "5)min():Find the minimum element in a list,sequence etc."
   ]
  },
  {
   "cell_type": "code",
   "execution_count": 20,
   "id": "f14a9aba-ea43-4e35-891c-79d7b3464c6e",
   "metadata": {},
   "outputs": [],
   "source": [
    "# 12) What is the maximum possible length of an identifier in python?"
   ]
  },
  {
   "cell_type": "markdown",
   "id": "16d1e02a-7282-4ee0-9e86-1a9310953361",
   "metadata": {},
   "source": [
    "There is no specific maximum length for an identifier in Python, but in practice, the maximum length of an identifier is limited by the amount of memory available on the system.Generally identifiers should be short and easy to read."
   ]
  },
  {
   "cell_type": "code",
   "execution_count": 22,
   "id": "bc14dd09-de6a-404b-949a-cc195384acbf",
   "metadata": {},
   "outputs": [],
   "source": [
    "# 13) What are rhe benifits of using python?"
   ]
  },
  {
   "cell_type": "markdown",
   "id": "6739c6b0-4c05-4df8-80bb-9ce4c2d48ee1",
   "metadata": {},
   "source": [
    "Python is a versatile and widely-used programming language with several benefits, making it a popular choice for a wide range of applications. Here are some key advantages of using Python:\n",
    "\n",
    "Python emphasizes code readability and uses a clean and straightforward syntax, which makes it easy to write and maintain code. This leads to enhanced productivity and reduces the cost of program maintenance.\n",
    "Extensive Standard Library:\n",
    "\n",
    "Python comes with a vast and comprehensive standard library that provides modules and packages for various tasks, from file I/O to web development. This minimizes the need for external libraries and allows developers to accomplish many tasks without writing additional code.\n",
    "Community and Documentation:\n",
    "\n",
    "Python has a large and active community of developers, which means there are abundant resources, tutorials, and documentation available. This community support is invaluable for troubleshooting, learning, and sharing knowledge.\n",
    "Cross-Platform Compatibility:\n",
    "\n",
    "Python is a cross-platform language, meaning that Python code can run on different operating systems without modification. This makes it easy to develop and deploy applications across various platforms.\n",
    "Interpretive and Interactive:\n",
    "\n",
    "Python is an interpreted language, allowing for quick development and testing. It supports an interactive mode, where you can experiment with code snippets and immediately see the results."
   ]
  },
  {
   "cell_type": "code",
   "execution_count": 23,
   "id": "fde5e26f-d4bf-414b-9db2-eff9540e5896",
   "metadata": {},
   "outputs": [],
   "source": [
    "#14) How is memory managed in python?"
   ]
  },
  {
   "cell_type": "markdown",
   "id": "2a606e07-263e-45d5-ab23-9f5c8ff1feae",
   "metadata": {},
   "source": [
    "Python, memory management is done automatically through a process called \"garbage collection.\" The Python interpreter keeps track of all objects in memory and periodically frees the memory occupied by objects that are no longer in use.\n",
    "\n",
    "The memory manager in Python uses a reference counting mechanism to keep track of objects in memory. When an object is no longer referenced by any part of the program, the memory manager automatically frees the memory occupied by that object.\n",
    "\n",
    "In addition to reference counting, Python also uses cyclic garbage collection, which is a mechanism that detects objects that are involved in reference cycles and frees the memory occupied by those objects.\n",
    "\n",
    "Python also provides several ways to explicitly manage memory, such as the del statement and the gc module. These tools allow the programmer to control the memory management process and can be useful in advanced applications."
   ]
  },
  {
   "cell_type": "code",
   "execution_count": 24,
   "id": "af8746f1-8bbe-482c-b66d-a37ff9ba803e",
   "metadata": {},
   "outputs": [],
   "source": [
    "#15) How to install python windows and set path for it?"
   ]
  },
  {
   "cell_type": "markdown",
   "id": "6ea01046-8f8e-444d-9fba-48bb7a3fbf22",
   "metadata": {},
   "source": [
    "1)Download the latest version of Python from the official website: https://www.python.org/downloads/windows/\n",
    "\n",
    "2)Run the Python installer by double-clicking on the downloaded file.\n",
    "\n",
    "3)During the installation process, make sure to check the option to \"Add Python 3.x to PATH\" or \"Add Python to environment variables.\"\n",
    "\n",
    "4)Complete the installation process.\n",
    "\n",
    "5)Open the Command Prompt and type python. If you see the Python prompt, it means that Python has been installed and the path variable has been set correctly."
   ]
  },
  {
   "cell_type": "code",
   "execution_count": 26,
   "id": "4e8d7d43-5540-4576-879a-911a9c883d97",
   "metadata": {},
   "outputs": [],
   "source": [
    "#16) Is indentation required in python ?"
   ]
  },
  {
   "cell_type": "markdown",
   "id": "98c1ce06-7cda-4bd8-91ea-e6ef3c7b9161",
   "metadata": {},
   "source": [
    "Yes."
   ]
  },
  {
   "cell_type": "code",
   "execution_count": null,
   "id": "c2ffda01-e802-45dd-99e8-a910131b2efb",
   "metadata": {},
   "outputs": [],
   "source": []
  }
 ],
 "metadata": {
  "kernelspec": {
   "display_name": "Python 3 (ipykernel)",
   "language": "python",
   "name": "python3"
  },
  "language_info": {
   "codemirror_mode": {
    "name": "ipython",
    "version": 3
   },
   "file_extension": ".py",
   "mimetype": "text/x-python",
   "name": "python",
   "nbconvert_exporter": "python",
   "pygments_lexer": "ipython3",
   "version": "3.10.8"
  }
 },
 "nbformat": 4,
 "nbformat_minor": 5
}
