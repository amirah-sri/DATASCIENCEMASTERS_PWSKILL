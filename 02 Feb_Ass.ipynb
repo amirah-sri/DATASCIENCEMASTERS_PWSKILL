{
 "cells": [
  {
   "cell_type": "code",
   "execution_count": null,
   "id": "f2681dea-287c-4aaa-86e8-1b58c4d80130",
   "metadata": {},
   "outputs": [],
   "source": [
    "#Q1. What are the characteristics of the tuples? Is tuple immutable?"
   ]
  },
  {
   "cell_type": "markdown",
   "id": "bd874063-ef83-4160-bac9-b110226283ab",
   "metadata": {},
   "source": [
    "Tuples in python is much like lists but are unchangeable. They are formed within panthasis () \n",
    "1. We can access a specific element in tuple by indexing but can not add elements after the tuple is created \n",
    "2. Once the tuple is created , elements can not be remove from it.\n",
    "Yes tuple is immutable."
   ]
  },
  {
   "cell_type": "code",
   "execution_count": 49,
   "id": "b59a9320-aedf-48e1-9bf2-62521b78306a",
   "metadata": {},
   "outputs": [],
   "source": [
    "#Q2.What are the two tuple methods in python? Give an example of each method. Give a reason why tuples have only two in-built methods \n",
    "#as compared to Lists."
   ]
  },
  {
   "cell_type": "markdown",
   "id": "5c966c2b-535d-4ec1-a5aa-e0cebdd336ec",
   "metadata": {},
   "source": [
    "The two tuple methods in python are :\n",
    "1. count \n",
    "2. index"
   ]
  },
  {
   "cell_type": "code",
   "execution_count": 8,
   "id": "a1f407fb-1ed9-418f-904f-d220f0568e95",
   "metadata": {},
   "outputs": [
    {
     "data": {
      "text/plain": [
       "4"
      ]
     },
     "execution_count": 8,
     "metadata": {},
     "output_type": "execute_result"
    }
   ],
   "source": [
    "t=(1,2,3,6,4,6,2,6,2,7,8,2) #counts the number of times 2 occured in tuple t.\n",
    "t.count(2)"
   ]
  },
  {
   "cell_type": "code",
   "execution_count": 11,
   "id": "797783c1-62e0-4d8a-b98c-acdcaef776c3",
   "metadata": {},
   "outputs": [
    {
     "data": {
      "text/plain": [
       "3"
      ]
     },
     "execution_count": 11,
     "metadata": {},
     "output_type": "execute_result"
    }
   ],
   "source": [
    "t.index(6) #gives the index value at which element 6 is present"
   ]
  },
  {
   "cell_type": "code",
   "execution_count": 12,
   "id": "5af6d53e-de16-4164-a76a-e3d72ec64a39",
   "metadata": {},
   "outputs": [
    {
     "data": {
      "text/plain": [
       "5"
      ]
     },
     "execution_count": 12,
     "metadata": {},
     "output_type": "execute_result"
    }
   ],
   "source": [
    "t.index(6,4)# gives the index value at which 6 occures after 4th index "
   ]
  },
  {
   "cell_type": "code",
   "execution_count": 50,
   "id": "77c086a9-b978-48ec-a1ed-660d158c14d8",
   "metadata": {},
   "outputs": [],
   "source": [
    "#Q3.Which collection datatypes in python do not allow duplicate items? Write a code using a set to remove duplicates from the given list.\n",
    "#List = [1, 1, 1, 2, 1, 3, 1, 4, 2, 1, 2, 2, 2, 3, 2, 4, 3, 1, 3, 2, 3, 3, 3, 4, 4, 1, 4, 2, 4, 3, 4, 4]"
   ]
  },
  {
   "cell_type": "markdown",
   "id": "5250a065-2e71-4da6-a5a9-ab0371b6e344",
   "metadata": {},
   "source": [
    "Set in python do not allow duplicate items."
   ]
  },
  {
   "cell_type": "code",
   "execution_count": 15,
   "id": "5727edf5-5341-400d-b6fa-fd1a1a898590",
   "metadata": {},
   "outputs": [],
   "source": [
    "List = [1, 1, 1, 2, 1, 3, 1, 4, 2, 1, 2, 2, 2, 3, 2, 4, 3, 1, 3, 2, 3, 3, 3, 4, 4, 1, 4, 2, 4, 3, 4, 4]"
   ]
  },
  {
   "cell_type": "code",
   "execution_count": 16,
   "id": "97b0bd0c-aefb-416b-80a2-8874821d97a3",
   "metadata": {},
   "outputs": [],
   "source": [
    "Set=set(List)"
   ]
  },
  {
   "cell_type": "code",
   "execution_count": 17,
   "id": "d8adb3b2-141e-488f-b5e1-db869eae21ec",
   "metadata": {},
   "outputs": [
    {
     "data": {
      "text/plain": [
       "{1, 2, 3, 4}"
      ]
     },
     "execution_count": 17,
     "metadata": {},
     "output_type": "execute_result"
    }
   ],
   "source": [
    "Set"
   ]
  },
  {
   "cell_type": "code",
   "execution_count": 51,
   "id": "ee9dc3ef-1598-44d2-8440-43c17237d06e",
   "metadata": {},
   "outputs": [],
   "source": [
    "#Q4.Explain the difference between the union() and update() methods for a set. Give an example of each method."
   ]
  },
  {
   "cell_type": "code",
   "execution_count": 23,
   "id": "a985ad56-fe82-4238-9362-f79c74e64ff0",
   "metadata": {},
   "outputs": [],
   "source": [
    "s=Set"
   ]
  },
  {
   "cell_type": "code",
   "execution_count": 22,
   "id": "d52e3452-3718-4e03-b7b6-896d891ede94",
   "metadata": {},
   "outputs": [
    {
     "data": {
      "text/plain": [
       "{1, 2, 3, 4}"
      ]
     },
     "execution_count": 22,
     "metadata": {},
     "output_type": "execute_result"
    }
   ],
   "source": [
    "s"
   ]
  },
  {
   "cell_type": "code",
   "execution_count": 34,
   "id": "a1fb8e58-72fe-42b9-b43a-1681af584484",
   "metadata": {},
   "outputs": [],
   "source": [
    "t={3,6,7,8,9}"
   ]
  },
  {
   "cell_type": "code",
   "execution_count": 35,
   "id": "3f5f6e70-c66b-4f19-ab44-7ee8c7cbd5de",
   "metadata": {},
   "outputs": [
    {
     "data": {
      "text/plain": [
       "{3, 6, 7, 8, 9}"
      ]
     },
     "execution_count": 35,
     "metadata": {},
     "output_type": "execute_result"
    }
   ],
   "source": [
    "t"
   ]
  },
  {
   "cell_type": "code",
   "execution_count": 45,
   "id": "ee79d3e3-263a-4615-be29-db32be14ab20",
   "metadata": {},
   "outputs": [
    {
     "data": {
      "text/plain": [
       "{1, 2, 3, 4, 6, 7, 8, 9}"
      ]
     },
     "execution_count": 45,
     "metadata": {},
     "output_type": "execute_result"
    }
   ],
   "source": [
    "s.union(t)"
   ]
  },
  {
   "cell_type": "code",
   "execution_count": 46,
   "id": "f3b60f92-3225-4a95-8b28-572ff1dccd9d",
   "metadata": {},
   "outputs": [
    {
     "data": {
      "text/plain": [
       "{1, 2, 3, 4, 6, 7, 8, 9}"
      ]
     },
     "execution_count": 46,
     "metadata": {},
     "output_type": "execute_result"
    }
   ],
   "source": [
    "s"
   ]
  },
  {
   "cell_type": "code",
   "execution_count": 47,
   "id": "9dd1c61b-ec33-4161-9e6f-e03517e2799c",
   "metadata": {},
   "outputs": [],
   "source": [
    "s.update(t)"
   ]
  },
  {
   "cell_type": "code",
   "execution_count": 48,
   "id": "97ff9e8b-f2c2-4341-8f37-61339cb8b804",
   "metadata": {},
   "outputs": [
    {
     "data": {
      "text/plain": [
       "{1, 2, 3, 4, 6, 7, 8, 9}"
      ]
     },
     "execution_count": 48,
     "metadata": {},
     "output_type": "execute_result"
    }
   ],
   "source": [
    "s"
   ]
  },
  {
   "cell_type": "markdown",
   "id": "50cc4f17-e679-40e6-9cf6-c2ccc3fb1859",
   "metadata": {},
   "source": [
    "union() dose not modify the orginal sets and returns a new sewt where as update() modifies the orginal sets and returns None."
   ]
  },
  {
   "cell_type": "code",
   "execution_count": 52,
   "id": "d471cec8-8b5f-4714-9ed2-1405d47168ad",
   "metadata": {},
   "outputs": [],
   "source": [
    "#Q5.What is a dictionary? Give an example. Also, state whether a dictionary is ordered or unordered."
   ]
  },
  {
   "cell_type": "markdown",
   "id": "fcfa3947-b274-49b5-9559-bbb8a221dba1",
   "metadata": {},
   "source": [
    "Dictionaries in Python is a data structure, used to store values in key:value format. It is an unordered collection of data."
   ]
  },
  {
   "cell_type": "code",
   "execution_count": 53,
   "id": "509c37d0-2b19-48fe-acc2-f22911be36e4",
   "metadata": {},
   "outputs": [],
   "source": [
    "d={\"k1\":1,\"k2\":2}"
   ]
  },
  {
   "cell_type": "code",
   "execution_count": 54,
   "id": "ffc46073-9d65-4b58-9341-04c9bea634d8",
   "metadata": {},
   "outputs": [
    {
     "data": {
      "text/plain": [
       "dict"
      ]
     },
     "execution_count": 54,
     "metadata": {},
     "output_type": "execute_result"
    }
   ],
   "source": [
    "type(d)"
   ]
  },
  {
   "cell_type": "code",
   "execution_count": 55,
   "id": "ae54d2a1-626d-44c2-af2e-bfc0184139f5",
   "metadata": {},
   "outputs": [],
   "source": [
    "#Q6. Can we create a nested dictionary? If so, please give an example by creating a simple one-level nested-dictionary."
   ]
  },
  {
   "cell_type": "markdown",
   "id": "ac593cc5-3835-47c4-babf-b043b5511d42",
   "metadata": {},
   "source": [
    "yes we can create a nested dictionary. For example:"
   ]
  },
  {
   "cell_type": "code",
   "execution_count": 56,
   "id": "6ae90d6c-7449-4442-a601-a7a098670a5d",
   "metadata": {},
   "outputs": [],
   "source": [
    "people={1:{\"name\":\"Karna\",\"Age\":34,\"Email\":\"Karna@gmail.com\"},2:{\"name\":\"Uriuvi\",\"Age\":20,\"Email\":\"Urivi@gmail.com\"}}"
   ]
  },
  {
   "cell_type": "code",
   "execution_count": 57,
   "id": "f29254e6-5fd3-4dc1-bc05-5649928ea8c1",
   "metadata": {},
   "outputs": [],
   "source": [
    "#Q7. Using setdefault() method, create key named topics in the given dictionary and also add the value of\n",
    "#the key as this list ['Python', 'Machine Learning’, 'Deep Learning']\n",
    "#dict1 = {'language' : 'Python', 'course': 'Data Science Masters'}"
   ]
  },
  {
   "cell_type": "code",
   "execution_count": 58,
   "id": "c31c64ac-8df8-44ce-b8c5-1a787208466d",
   "metadata": {},
   "outputs": [],
   "source": [
    "dict1 = {'language' : 'Python', 'course': 'Data Science Masters'}"
   ]
  },
  {
   "cell_type": "code",
   "execution_count": 62,
   "id": "f8ca34db-a4d3-49c6-ad80-0c709a04e2ef",
   "metadata": {},
   "outputs": [
    {
     "name": "stdout",
     "output_type": "stream",
     "text": [
      "{'language': 'Python', 'course': 'Data Science Masters', 'topics': ['Python', 'Machine Learning', 'Deep Learning']}\n"
     ]
    }
   ],
   "source": [
    "dict1.setdefault('topics', ['Python', 'Machine Learning', 'Deep Learning'])\n",
    "print(dict1)"
   ]
  },
  {
   "cell_type": "code",
   "execution_count": 63,
   "id": "70bdc621-e0aa-4d2c-bd00-97279cd055c6",
   "metadata": {},
   "outputs": [],
   "source": [
    "#Q8. What are the three view objects in dictionaries? Use the three in-built methods in python to display these three view objects \n",
    "#for the given dictionary.\n",
    "#dict1 = {'Sport': 'Cricket' , 'Teams': ['India', 'Australia', 'England', 'South Africa', 'Sri Lanka', 'New Zealand']}"
   ]
  },
  {
   "cell_type": "code",
   "execution_count": 64,
   "id": "9d97ea9d-eb10-4e11-873a-5ad2453bf8e1",
   "metadata": {},
   "outputs": [],
   "source": [
    "dict1 = {'Sport': 'Cricket' , 'Teams': ['India', 'Australia', 'England', 'South Africa', 'Sri Lanka', 'New Zealand']}"
   ]
  },
  {
   "cell_type": "code",
   "execution_count": 68,
   "id": "2cf1273a-1375-4ad3-8444-d51c24720542",
   "metadata": {},
   "outputs": [
    {
     "name": "stdout",
     "output_type": "stream",
     "text": [
      "Dictionary keys: dict_keys(['Sport', 'Teams'])\n"
     ]
    }
   ],
   "source": [
    "print(\"Dictionary keys:\" ,dict1.keys())"
   ]
  },
  {
   "cell_type": "code",
   "execution_count": 69,
   "id": "62048f71-40bb-49e9-bff5-1dfade743ad5",
   "metadata": {},
   "outputs": [
    {
     "name": "stdout",
     "output_type": "stream",
     "text": [
      "Dictionary values: dict_values(['Cricket', ['India', 'Australia', 'England', 'South Africa', 'Sri Lanka', 'New Zealand']])\n"
     ]
    }
   ],
   "source": [
    "print(\"Dictionary values:\",dict1.values())"
   ]
  },
  {
   "cell_type": "code",
   "execution_count": null,
   "id": "17b79470-d1f5-49ca-abc9-0111cd291fb7",
   "metadata": {},
   "outputs": [],
   "source": [
    "print( \"Dictionary items\":\n",
    "      "
   ]
  }
 ],
 "metadata": {
  "kernelspec": {
   "display_name": "Python 3 (ipykernel)",
   "language": "python",
   "name": "python3"
  },
  "language_info": {
   "codemirror_mode": {
    "name": "ipython",
    "version": 3
   },
   "file_extension": ".py",
   "mimetype": "text/x-python",
   "name": "python",
   "nbconvert_exporter": "python",
   "pygments_lexer": "ipython3",
   "version": "3.10.8"
  }
 },
 "nbformat": 4,
 "nbformat_minor": 5
}
